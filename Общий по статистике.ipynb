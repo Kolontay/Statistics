{
 "cells": [
  {
   "cell_type": "code",
   "execution_count": 1,
   "id": "3f564a20",
   "metadata": {},
   "outputs": [],
   "source": [
    "import numpy as np\n",
    "import matplotlib.pyplot as plt\n",
    "from scipy import stats\n",
    "import pandas as pd"
   ]
  },
  {
   "cell_type": "code",
   "execution_count": 11,
   "id": "d095f529",
   "metadata": {},
   "outputs": [],
   "source": [
    "mu_control = 1500\n",
    "effect = 20  # размер эффекта\n",
    "std = 200 # стандартное отклонение по историческим данным\n",
    "\n",
    "ranom_A = np.random.normal(mu_control,std,size =5000) # mu, sigma\n",
    "ranom_B = np.random.normal(mu_control+effect,std,size =5000) # mu, sigma"
   ]
  },
  {
   "cell_type": "markdown",
   "id": "8ca6114f",
   "metadata": {},
   "source": [
    "Узнать размер выборки"
   ]
  },
  {
   "cell_type": "code",
   "execution_count": null,
   "id": "9e7f6516",
   "metadata": {},
   "outputs": [],
   "source": [
    "# Функция для определения размера выборки\n",
    "def sample_size(std,effect,alpha=0.05,beta=0.2):\n",
    "    t_alpha = stats.norm.ppf(1 - alpha / 2, loc=0, scale=1)\n",
    "    t_beta = stats.norm.ppf(1 - beta, loc=0, scale=1)\n",
    "    var = 2 * std ** 2\n",
    "    sample_size = int((t_alpha + t_beta) ** 2 * var / (effect ** 2))\n",
    "    return sample_size"
   ]
  },
  {
   "cell_type": "code",
   "execution_count": 44,
   "id": "e8576383",
   "metadata": {},
   "outputs": [
    {
     "name": "stdout",
     "output_type": "stream",
     "text": [
      "t-statistic: 0.0\n",
      "p-value: 1.0\n"
     ]
    }
   ],
   "source": [
    "import scipy.stats as stats\n",
    "\n",
    "# Заданы параметры выборок\n",
    "n1, n2 = 4362, 4362\n",
    "mean1, mean2 = 1003, 1000\n",
    "std1, std2 = 50, 50\n",
    "\n",
    "# Вычисляем стандартную ошибку\n",
    "se1, se2 = std1 / (n1 ** 0.5), std2 / (n2 ** 0.5)\n",
    "\n",
    "# Объединенная стандартная ошибка\n",
    "se = (se1**2 + se2**2)**0.5\n",
    "\n",
    "# t-статистика\n",
    "t = (mean1 - mean2-3) / se\n",
    "\n",
    "# Вычисляем степени свободы для t-распределения\n",
    "df = min(n1, n2) - 1\n",
    "\n",
    "# Вычисляем p-value\n",
    "p = (1.0 - stats.t.cdf(abs(t), df)) * 2.0\n",
    "\n",
    "print(\"t-statistic:\", t)\n",
    "print(\"p-value:\", p)"
   ]
  },
  {
   "cell_type": "code",
   "execution_count": 43,
   "id": "fac2145e",
   "metadata": {},
   "outputs": [
    {
     "name": "stdout",
     "output_type": "stream",
     "text": [
      "Effect size (Cohen's d): 0.06\n",
      "Практический эффект не достигает уровня 0.3\n"
     ]
    }
   ],
   "source": [
    "# Расчет объединенного стандартного отклонения\n",
    "SD_pooled = ((n1 - 1) * std1**2 + (n2 - 1) * std2**2) / (n1 + n2 - 2)\n",
    "SD_pooled = SD_pooled**0.5\n",
    "\n",
    "# Размер эффекта Коэна\n",
    "d = (mean1 - mean2) / SD_pooled\n",
    "\n",
    "print(\"Effect size (Cohen's d):\", d)\n",
    "\n",
    "if abs(d) >= 0.3:\n",
    "    print(\"Практический эффект превышает уровень 0.3\")\n",
    "else:\n",
    "    print(\"Практический эффект не достигает уровня 0.3\")"
   ]
  },
  {
   "cell_type": "code",
   "execution_count": 45,
   "id": "947edb97",
   "metadata": {},
   "outputs": [
    {
     "name": "stdout",
     "output_type": "stream",
     "text": [
      "95% доверительный интервал для разницы между средними: (0.90, 5.10)\n"
     ]
    }
   ],
   "source": [
    "# Уровень доверия\n",
    "alpha = 0.05\n",
    "\n",
    "# Критическое значение t-статистики для 95% доверительного интервала и заданных степеней свободы\n",
    "t_critical = stats.t.ppf(1 - alpha/2, df)\n",
    "\n",
    "# Нижний и верхний пределы доверительного интервала\n",
    "lower_bound = (mean1 - mean2) - t_critical * se\n",
    "upper_bound = (mean1 - mean2) + t_critical * se\n",
    "\n",
    "print(f\"95% доверительный интервал для разницы между средними: ({lower_bound:.2f}, {upper_bound:.2f})\")\n"
   ]
  },
  {
   "cell_type": "code",
   "execution_count": 46,
   "id": "c8784cb0",
   "metadata": {},
   "outputs": [
    {
     "data": {
      "text/plain": [
       "3"
      ]
     },
     "execution_count": 46,
     "metadata": {},
     "output_type": "execute_result"
    }
   ],
   "source": [
    "mean1 - mean2"
   ]
  },
  {
   "cell_type": "code",
   "execution_count": null,
   "id": "04e365c3",
   "metadata": {},
   "outputs": [],
   "source": []
  },
  {
   "cell_type": "code",
   "execution_count": null,
   "id": "2fbe79d7",
   "metadata": {},
   "outputs": [],
   "source": []
  },
  {
   "cell_type": "code",
   "execution_count": null,
   "id": "11c71cbc",
   "metadata": {},
   "outputs": [],
   "source": []
  },
  {
   "cell_type": "code",
   "execution_count": null,
   "id": "d88e33ff",
   "metadata": {},
   "outputs": [],
   "source": []
  }
 ],
 "metadata": {
  "kernelspec": {
   "display_name": "Python 3 (ipykernel)",
   "language": "python",
   "name": "python3"
  },
  "language_info": {
   "codemirror_mode": {
    "name": "ipython",
    "version": 3
   },
   "file_extension": ".py",
   "mimetype": "text/x-python",
   "name": "python",
   "nbconvert_exporter": "python",
   "pygments_lexer": "ipython3",
   "version": "3.9.13"
  }
 },
 "nbformat": 4,
 "nbformat_minor": 5
}
