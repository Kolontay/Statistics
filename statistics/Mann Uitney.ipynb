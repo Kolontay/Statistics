{
 "cells": [
  {
   "cell_type": "code",
   "execution_count": 6,
   "id": "34e9f560",
   "metadata": {},
   "outputs": [],
   "source": [
    "import scipy.stats as sps\n",
    "from tqdm.notebook import tqdm # tqdm – библиотека для визуализации прогресса в цикле\n",
    "from statsmodels.stats.proportion import proportion_confint\n",
    "import numpy as np\n",
    "\n",
    "import matplotlib.pyplot as plt\n",
    "import numpy as np\n"
   ]
  },
  {
   "cell_type": "code",
   "execution_count": 2,
   "id": "97ac37ab",
   "metadata": {},
   "outputs": [
    {
     "data": {
      "application/vnd.jupyter.widget-view+json": {
       "model_id": "446f16d6bb514439a899814392afeaa8",
       "version_major": 2,
       "version_minor": 0
      },
      "text/plain": [
       "  0%|          | 0/1000 [00:00<?, ?it/s]"
      ]
     },
     "metadata": {},
     "output_type": "display_data"
    }
   ],
   "source": [
    "# Заводим счетчики количества отвергнутых гипотез для Манна-Уитни и для t-test\n",
    "mann_bad_cnt = 0\n",
    "ttest_bad_cnt = 0\n",
    " \n",
    "# Прогоняем критерии 1000 раз\n",
    "sz = 1000\n",
    "for i in tqdm(range(sz)):\n",
    "    # Генерируем распределение\n",
    "    test = sps.uniform(loc=-1, scale=2).rvs(1000) # U[-1, 1] равномерное распределение\n",
    "    control = sps.uniform(loc=-100, scale=200).rvs(1000) # U[-100, 100] равномерное распределение\n",
    "     \n",
    "    # Считаем pvalue\n",
    "    mann_pvalue = sps.mannwhitneyu(control, test, alternative='two-sided').pvalue\n",
    "    ttest_pvalue = sps.ttest_ind(control, test, alternative='two-sided').pvalue\n",
    "     \n",
    "    # отвергаем критерий на уровне 5%\n",
    "    if mann_pvalue < 0.05:\n",
    "        mann_bad_cnt += 1\n",
    " \n",
    "    if ttest_pvalue < 0.05:\n",
    "        ttest_bad_cnt += 1"
   ]
  },
  {
   "cell_type": "code",
   "execution_count": 11,
   "id": "1876bb32",
   "metadata": {},
   "outputs": [
    {
     "name": "stdout",
     "output_type": "stream",
     "text": [
      "Mann-whitneyu significance level: 0.099, [0.082, 0.1191]\n",
      "T-test significance level: 0.046, [0.0347, 0.0608]\n"
     ]
    }
   ],
   "source": [
    "# Строим доверительный интервал для уровня значимости критерия (или для FPR критерия)\n",
    "left_mann_level, right_mann_level = proportion_confint(count = mann_bad_cnt, nobs = sz, alpha=0.05, method='wilson')\n",
    "left_ttest_level, right_ttest_level = proportion_confint(count = ttest_bad_cnt, nobs = sz, alpha=0.05, method='wilson')\n",
    "# Выводим результаты\n",
    "print(f\"Mann-whitneyu significance level: {round(mann_bad_cnt / sz, 4)}, [{round(left_mann_level, 4)}, {round(right_mann_level, 4)}]\")\n",
    "print(f\"T-test significance level: {round(ttest_bad_cnt / sz, 4)}, [{round(left_ttest_level, 4)}, {round(right_ttest_level, 4)}]\")"
   ]
  },
  {
   "cell_type": "code",
   "execution_count": null,
   "id": "c0434fcf",
   "metadata": {},
   "outputs": [],
   "source": []
  },
  {
   "cell_type": "code",
   "execution_count": 13,
   "id": "f6f8c5ed",
   "metadata": {},
   "outputs": [
    {
     "data": {
      "application/vnd.jupyter.widget-view+json": {
       "model_id": "b5c81d79c8e643a48548ff48483dde9a",
       "version_major": 2,
       "version_minor": 0
      },
      "text/plain": [
       "  0%|          | 0/1000 [00:00<?, ?it/s]"
      ]
     },
     "metadata": {},
     "output_type": "display_data"
    },
    {
     "name": "stdout",
     "output_type": "stream",
     "text": [
      "Mann-whitneyu significance level: 0.046, [0.0347, 0.0608]\n",
      "T-test significance level: 0.048, [0.0364, 0.0631]\n"
     ]
    }
   ],
   "source": [
    "import scipy.stats as sps\n",
    "from tqdm.notebook import tqdm # tqdm – библиотека для визуализации прогресса в цикле\n",
    "from statsmodels.stats.proportion import proportion_confint\n",
    "import numpy as np\n",
    " \n",
    "# Заводим счетчики количества отвергнутых гипотез для Манна-Уитни и для t-test\n",
    "mann_bad_cnt = 0\n",
    "ttest_bad_cnt = 0\n",
    " \n",
    "# Прогоняем критерии 1000 раз\n",
    "sz = 1000\n",
    "for i in tqdm(range(sz)):\n",
    "    # Генерируем распределение\n",
    "    test = sps.uniform(loc=-100, scale=200).rvs(1000) # U[-100, 100]\n",
    "    control = sps.uniform(loc=-100, scale=200).rvs(1000) # U[-100, 100]\n",
    "     \n",
    "    # Считаем pvalue\n",
    "    mann_pvalue = sps.mannwhitneyu(control, test, alternative='two-sided').pvalue\n",
    "    ttest_pvalue = sps.ttest_ind(control, test, alternative='two-sided').pvalue\n",
    "     \n",
    "    # отвергаем критерий на уровне 5%\n",
    "    if mann_pvalue < 0.05:\n",
    "        mann_bad_cnt += 1\n",
    " \n",
    "    if ttest_pvalue < 0.05:\n",
    "        ttest_bad_cnt += 1\n",
    " \n",
    "# Строим доверительный интервал для уровня значимости критерия (или для FPR критерия)\n",
    "left_mann_level, right_mann_level = proportion_confint(count = mann_bad_cnt, nobs = sz, alpha=0.05, method='wilson')\n",
    "left_ttest_level, right_ttest_level = proportion_confint(count = ttest_bad_cnt, nobs = sz, alpha=0.05, method='wilson')\n",
    "# Выводим результаты\n",
    "print(f\"Mann-whitneyu significance level: {round(mann_bad_cnt / sz, 4)}, [{round(left_mann_level, 4)}, {round(right_mann_level, 4)}]\")\n",
    "print(f\"T-test significance level: {round(ttest_bad_cnt / sz, 4)}, [{round(left_ttest_level, 4)}, {round(right_ttest_level, 4)}]\")"
   ]
  }
 ],
 "metadata": {
  "kernelspec": {
   "display_name": "Python 3 (ipykernel)",
   "language": "python",
   "name": "python3"
  },
  "language_info": {
   "codemirror_mode": {
    "name": "ipython",
    "version": 3
   },
   "file_extension": ".py",
   "mimetype": "text/x-python",
   "name": "python",
   "nbconvert_exporter": "python",
   "pygments_lexer": "ipython3",
   "version": "3.9.13"
  }
 },
 "nbformat": 4,
 "nbformat_minor": 5
}
