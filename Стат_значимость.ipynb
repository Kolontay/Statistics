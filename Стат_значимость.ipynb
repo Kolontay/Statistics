{
 "cells": [
  {
   "cell_type": "markdown",
   "id": "de5a4067-b623-40e1-8f7d-f6818782b7be",
   "metadata": {},
   "source": [
    "# АНАЛИЗ статистической значимости метрик\n"
   ]
  },
  {
   "cell_type": "markdown",
   "id": "6f363e83-cacf-47fe-96af-4b179052eb84",
   "metadata": {
    "jp-MarkdownHeadingCollapsed": true
   },
   "source": [
    "# Переменная непрерывна"
   ]
  },
  {
   "cell_type": "code",
   "execution_count": 204,
   "id": "53435721-c452-4f41-a011-f8cf23cdeaa3",
   "metadata": {},
   "outputs": [
    {
     "name": "stdout",
     "output_type": "stream",
     "text": [
      "среднее по А: 0.8305980801553448\n",
      "среднее по Б: 0.8458201297074784\n"
     ]
    }
   ],
   "source": [
    "import numpy as np\n",
    "import matplotlib.pyplot as plt\n",
    "import pandas as pd\n",
    "\n",
    "# Случайные данные AUC двух моделей\n",
    "np.random.seed(0)\n",
    "auc_model_a = np.random.normal(loc=0.83, scale=0.01, size=100)\n",
    "auc_model_b = np.random.normal(loc=0.845, scale=0.01, size=100)\n",
    "\n",
    "# 1. Средние значения\n",
    "mean_a = np.mean(auc_model_a)\n",
    "mean_b = np.mean(auc_model_b)\n",
    "print(f'среднее по А: {mean_a}')\n",
    "print(f'среднее по Б: {mean_b}')\n",
    "\n",
    "# 2. Разность средних\n",
    "mean_diff = mean_b - mean_a\n",
    "print(f'дельта средних: {mean_diff}')"
   ]
  },
  {
   "cell_type": "code",
   "execution_count": 80,
   "id": "36ba2f98-14ae-4594-bf40-83a8b30ffdf6",
   "metadata": {},
   "outputs": [
    {
     "data": {
      "text/plain": [
       "array([[<Axes: title={'center': 'a'}>, <Axes: title={'center': 'b'}>]],\n",
       "      dtype=object)"
      ]
     },
     "execution_count": 80,
     "metadata": {},
     "output_type": "execute_result"
    },
    {
     "data": {
      "image/png": "[encoded data removed]",
      "text/plain": [
       "<Figure size 640x480 with 2 Axes>"
      ]
     },
     "metadata": {},
     "output_type": "display_data"
    }
   ],
   "source": [
    "pd.DataFrame({'a':auc_model_a,'b':auc_model_b}).hist()"
   ]
  },
  {
   "cell_type": "markdown",
   "id": "119925f3-75d9-48d4-8f7e-e27c457741e4",
   "metadata": {
    "jp-MarkdownHeadingCollapsed": true
   },
   "source": [
    "## t-test"
   ]
  },
  {
   "cell_type": "code",
   "execution_count": 162,
   "id": "a845a615-b49a-4712-a019-346de426c8fc",
   "metadata": {},
   "outputs": [
    {
     "data": {
      "text/plain": [
       "{'Mean difference': 0.0152,\n",
       " 'Standard error': 0.001368,\n",
       " 't-statistic': 11.1254,\n",
       " 'p-value': 0.0,\n",
       " '95% CI': [0.0125, 0.0179]}"
      ]
     },
     "execution_count": 162,
     "metadata": {},
     "output_type": "execute_result"
    }
   ],
   "source": [
    "# Разности между значениями\n",
    "diffs = auc_model_b - auc_model_a\n",
    "n = len(diffs)\n",
    "mean_diff = np.mean(diffs)\n",
    "std_diff = np.std(diffs, ddof=1) \n",
    "\n",
    "# Стандартная ошибка\n",
    "se_diff = std_diff / np.sqrt(n)\n",
    "\n",
    "# t-статистика\n",
    "t_stat = mean_diff / se_diff\n",
    "\n",
    "# p-value (через нормальное приближение)\n",
    "def normal_cdf(x):\n",
    "    return (1 + erf(x / sqrt(2))) / 2\n",
    "\n",
    "p_value = 2 * (1 - normal_cdf(abs(t_stat)))\n",
    "\n",
    "# 95% доверительный интервал\n",
    "z_critical = 1.96\n",
    "ci_low = mean_diff - z_critical * se_diff\n",
    "ci_high = mean_diff + z_critical * se_diff\n",
    "\n",
    "{\n",
    "    \"Mean difference\": round(mean_diff, 4),\n",
    "    \"Standard error\": round(se_diff, 6),\n",
    "    \"t-statistic\": round(t_stat, 4),\n",
    "    \"p-value\": round(p_value, 6),\n",
    "    \"95% CI\": [round(ci_low, 4), round(ci_high, 4)]\n",
    "}"
   ]
  },
  {
   "cell_type": "markdown",
   "id": "25e3ce00-2677-42be-bf7a-282cfbbcafef",
   "metadata": {
    "jp-MarkdownHeadingCollapsed": true
   },
   "source": [
    "## Wilcoxon (ранговый тест)"
   ]
  },
  {
   "cell_type": "code",
   "execution_count": 163,
   "id": "655e7157-e90f-431a-8858-0f6da9eb6353",
   "metadata": {},
   "outputs": [
    {
     "data": {
      "text/plain": [
       "(298.0, 0.0)"
      ]
     },
     "execution_count": 163,
     "metadata": {},
     "output_type": "execute_result"
    }
   ],
   "source": [
    "# Повторное выполнение после сброса окружения\n",
    "import numpy as np\n",
    "from scipy.stats import wilcoxon\n",
    "\n",
    "# Воссоздаем данные\n",
    "np.random.seed(0)\n",
    "auc_model_a = np.random.normal(loc=0.83, scale=0.01, size=100)\n",
    "auc_model_b = np.random.normal(loc=0.845, scale=0.01, size=100)\n",
    "\n",
    "# Разности\n",
    "diffs = auc_model_b - auc_model_a\n",
    "\n",
    "# Wilcoxon signed-rank test\n",
    "w_stat, p_value_wilcoxon = wilcoxon(diffs)\n",
    "\n",
    "round(w_stat, 4), round(p_value_wilcoxon, 6)"
   ]
  },
  {
   "cell_type": "markdown",
   "id": "ea1d6284-4890-4eb5-b31e-e2405d262049",
   "metadata": {
    "jp-MarkdownHeadingCollapsed": true
   },
   "source": [
    "## Permutation test "
   ]
  },
  {
   "cell_type": "code",
   "execution_count": 165,
   "id": "aae61e9b-2847-4f64-bc36-806302f50bd2",
   "metadata": {},
   "outputs": [],
   "source": [
    "import numpy as np\n",
    "\n",
    "# Повторим генерацию данных\n",
    "np.random.seed(0)\n",
    "auc_model_a = np.random.normal(loc=0.83, scale=0.01, size=100)\n",
    "auc_model_b = np.random.normal(loc=0.845, scale=0.01, size=100)\n",
    "\n",
    "# Вычисляем наблюдаемую разность средних\n",
    "observed_diff = np.mean(auc_model_b) - np.mean(auc_model_a)"
   ]
  },
  {
   "cell_type": "code",
   "execution_count": 166,
   "id": "d6360c04-7318-4635-9956-3b2395761443",
   "metadata": {},
   "outputs": [],
   "source": [
    "# Объединяем все значения\n",
    "combined = np.concatenate([auc_model_a, auc_model_b])"
   ]
  },
  {
   "cell_type": "code",
   "execution_count": 168,
   "id": "73e7fba4-edad-4513-8c35-42712e1dd266",
   "metadata": {},
   "outputs": [
    {
     "data": {
      "text/plain": [
       "(0.0152, 0.0)"
      ]
     },
     "execution_count": 168,
     "metadata": {},
     "output_type": "execute_result"
    }
   ],
   "source": [
    "# Перестановочный тест (пермутации)\n",
    "n_permutations = 10000\n",
    "permuted_diffs = []\n",
    "\n",
    "for _ in range(n_permutations):\n",
    "    np.random.shuffle(combined)\n",
    "    perm_a = combined[:100]\n",
    "    perm_b = combined[100:]\n",
    "    permuted_diffs.append(np.mean(perm_b) - np.mean(perm_a))\n",
    "\n",
    "permuted_diffs = np.array(permuted_diffs)\n",
    "\n",
    "# Эмпирическое p-value (двусторонний тест)\n",
    "empirical_p = np.mean(np.abs(permuted_diffs) >= np.abs(observed_diff))\n",
    "\n",
    "round(observed_diff, 4), round(empirical_p, 6)"
   ]
  },
  {
   "cell_type": "markdown",
   "id": "7aa9669b-6963-4ce0-812a-4e0b8466d80a",
   "metadata": {
    "jp-MarkdownHeadingCollapsed": true
   },
   "source": [
    "## Бутстрап доверительный интервал"
   ]
  },
  {
   "cell_type": "code",
   "execution_count": 176,
   "id": "6f24c1e4-4243-42c7-b4ca-865434399ccf",
   "metadata": {},
   "outputs": [
    {
     "data": {
      "text/plain": [
       "(0.015230753585120044, array([0.0124, 0.018 ]))"
      ]
     },
     "execution_count": 176,
     "metadata": {},
     "output_type": "execute_result"
    }
   ],
   "source": [
    "np.random.seed(0)\n",
    "n_bootstrap = 10000\n",
    "bootstrap_diffs = []\n",
    "\n",
    "# Бутстрап: семплируем с возвращением внутри каждой группы\n",
    "for _ in range(n_bootstrap):\n",
    "    sample_a = np.random.choice(auc_model_a, size=len(auc_model_a), replace=True)\n",
    "    sample_b = np.random.choice(auc_model_b, size=len(auc_model_b), replace=True)\n",
    "    bootstrap_diffs.append(np.mean(sample_b) - np.mean(sample_a))\n",
    "\n",
    "bootstrap_diffs = np.array(bootstrap_diffs)\n",
    "\n",
    "# 95% доверительный интервал\n",
    "ci_bootstrap = np.percentile(bootstrap_diffs, [2.5, 97.5])\n",
    "\n",
    "# Средняя оценка эффекта\n",
    "bootstrap_mean = np.mean(bootstrap_diffs)\n",
    "\n",
    "bootstrap_mean, ci_bootstrap.round(4)"
   ]
  },
  {
   "cell_type": "markdown",
   "id": "3285b02e-99ec-4d01-a4f5-aa152735f29e",
   "metadata": {
    "jp-MarkdownHeadingCollapsed": true
   },
   "source": [
    "## Баейсовский подход\n",
    "Вместо вопроса - \"Верна ли нулевая гипотеза?\" Задается вопрос - \"С какой вероятностью одна модель лучше другой?\""
   ]
  },
  {
   "cell_type": "code",
   "execution_count": null,
   "id": "1f60f099-84e5-4527-a264-3b87ff7056ca",
   "metadata": {},
   "outputs": [],
   "source": [
    "import numpy as np\n",
    "\n",
    "np.random.seed(0)\n",
    "auc_model_a = np.random.normal(loc=0.83, scale=0.01, size=100)\n",
    "auc_model_b = np.random.normal(loc=0.845, scale=0.01, size=100)\n",
    "\n",
    "# Байесовский подход — аппроксимация нормальными постериорами\n",
    "n_samples = 100000\n",
    "\n",
    "# Параметры аппроксимации\n",
    "mean_a, std_a = np.mean(auc_model_a), np.std(auc_model_a, ddof=1) / np.sqrt(len(auc_model_a))\n",
    "mean_b, std_b = np.mean(auc_model_b), np.std(auc_model_b, ddof=1) / np.sqrt(len(auc_model_b))\n",
    "\n",
    "# Сэмплируем постериоры\n",
    "posterior_a = np.random.normal(loc=mean_a, scale=std_a, size=n_samples)\n",
    "posterior_b = np.random.normal(loc=mean_b, scale=std_b, size=n_samples)\n",
    "\n",
    "# Разности\n",
    "delta = posterior_b - posterior_a\n",
    "\n",
    "# Вероятность того, что модель B лучше A\n",
    "prob_b_better = np.mean(delta > 0)\n",
    "\n",
    "# Байесовский 95% интервал\n",
    "bayes_ci = np.percentile(delta, [2.5, 97.5])\n",
    "\n",
    "round(prob_b_better, 4), bayes_ci.round(4)"
   ]
  },
  {
   "cell_type": "markdown",
   "id": "6f0095da-2c4d-414f-860d-7eff410a8bec",
   "metadata": {},
   "source": [
    "## Регрессии"
   ]
  },
  {
   "cell_type": "code",
   "execution_count": 202,
   "id": "a9ddfc04-b3c1-4306-9de5-87d90dd4a602",
   "metadata": {},
   "outputs": [
    {
     "name": "stdout",
     "output_type": "stream",
     "text": [
      "                            OLS Regression Results                            \n",
      "==============================================================================\n",
      "Dep. Variable:                 metric   R-squared:                       0.357\n",
      "Model:                            OLS   Adj. R-squared:                  0.354\n",
      "Method:                 Least Squares   F-statistic:                     109.9\n",
      "Date:                Fri, 09 May 2025   Prob (F-statistic):           9.62e-21\n",
      "Time:                        16:37:14   Log-Likelihood:                 633.02\n",
      "No. Observations:                 200   AIC:                            -1262.\n",
      "Df Residuals:                     198   BIC:                            -1255.\n",
      "Df Model:                           1                                         \n",
      "Covariance Type:            nonrobust                                         \n",
      "==============================================================================\n",
      "                 coef    std err          t      P>|t|      [0.025      0.975]\n",
      "------------------------------------------------------------------------------\n",
      "const          0.8306      0.001    809.149      0.000       0.829       0.833\n",
      "model          0.0152      0.001     10.486      0.000       0.012       0.018\n",
      "==============================================================================\n",
      "Omnibus:                        5.775   Durbin-Watson:                   1.904\n",
      "Prob(Omnibus):                  0.056   Jarque-Bera (JB):                3.446\n",
      "Skew:                           0.111   Prob(JB):                        0.179\n",
      "Kurtosis:                       2.397   Cond. No.                         2.62\n",
      "==============================================================================\n",
      "\n",
      "Notes:\n",
      "[1] Standard Errors assume that the covariance matrix of the errors is correctly specified.\n"
     ]
    }
   ],
   "source": [
    "import pandas as pd\n",
    "from sklearn.linear_model import LinearRegression\n",
    "from sklearn.preprocessing import LabelEncoder\n",
    "import statsmodels.api as sm\n",
    "\n",
    "df_a = pd.DataFrame({\n",
    "    'metric': auc_model_a})\n",
    "df_a['model'] = 'A'\n",
    "\n",
    "df_b = pd.DataFrame({\n",
    "    'metric': auc_model_b})\n",
    "df_b['model'] = 'B'\n",
    "df = pd.concat([df_a,df_b],axis =0)\n",
    "\n",
    "le = LabelEncoder()\n",
    "df['model'] = le.fit_transform(df['model'])\n",
    "\n",
    "X = sm.add_constant(df[['model']])\n",
    "y = df['metric']\n",
    "\n",
    "result = sm.OLS(y, X).fit()\n",
    "\n",
    "# выводим summary\n",
    "print(result.summary())"
   ]
  },
  {
   "cell_type": "markdown",
   "id": "7785a806-07b7-4c42-b427-b13bc902529c",
   "metadata": {
    "jp-MarkdownHeadingCollapsed": true
   },
   "source": [
    "# Переменная дискретна"
   ]
  },
  {
   "cell_type": "code",
   "execution_count": 207,
   "id": "e4876a9b-8316-4bd2-b024-a30b27a7b8ad",
   "metadata": {},
   "outputs": [
    {
     "data": {
      "text/plain": [
       "array([[<Axes: title={'center': 'a'}>, <Axes: title={'center': 'b'}>]],\n",
       "      dtype=object)"
      ]
     },
     "execution_count": 207,
     "metadata": {},
     "output_type": "execute_result"
    },
    {
     "data": {
      "image/png": "[encoded data removed]",
      "text/plain": [
       "<Figure size 640x480 with 2 Axes>"
      ]
     },
     "metadata": {},
     "output_type": "display_data"
    }
   ],
   "source": [
    "import numpy as np\n",
    "from math import erf, sqrt\n",
    "\n",
    "np.random.seed(42)\n",
    "\n",
    "# Группа A: 100 наблюдений, 25% успехов\n",
    "group_a = np.random.binomial(1, 0.25, size=100)\n",
    "\n",
    "# Группа B: 100 наблюдений, 40% успехов\n",
    "group_b = np.random.binomial(1, 0.40, size=100)\n",
    "\n",
    "# Пропорции успехов\n",
    "p1 = np.mean(group_a)\n",
    "p2 = np.mean(group_b)\n",
    "pd.DataFrame({'a':group_a,'b':group_b}).hist()"
   ]
  },
  {
   "cell_type": "markdown",
   "id": "1a597582-4ee3-43b4-9748-aa3c416573d0",
   "metadata": {
    "jp-MarkdownHeadingCollapsed": true
   },
   "source": [
    "## Z-test"
   ]
  },
  {
   "cell_type": "code",
   "execution_count": 211,
   "id": "7d4f55a0-d018-43d1-af32-c3b77b9b1160",
   "metadata": {},
   "outputs": [
    {
     "data": {
      "text/plain": [
       "(0.24, 0.41, 2.6098, 0.009059, (0.0423, 0.2977))"
      ]
     },
     "execution_count": 211,
     "metadata": {},
     "output_type": "execute_result"
    }
   ],
   "source": [
    "# Пропорции успехов и размеры\n",
    "p1 = np.mean(group_a)\n",
    "p2 = np.mean(group_b)\n",
    "n1 = len(group_a)\n",
    "n2 = len(group_b)\n",
    "\n",
    "# Непул стандартная ошибка\n",
    "se_unpooled = np.sqrt((p1 * (1 - p1)) / n1 + (p2 * (1 - p2)) / n2)\n",
    "\n",
    "# Z-статистика и p-value\n",
    "z_unpooled = (p2 - p1) / se_unpooled\n",
    "p_value_unpooled = 2 * (1 - normal_cdf(abs(z_unpooled)))\n",
    "\n",
    "# 95% доверительный интервал\n",
    "z_crit = 1.96\n",
    "ci_low = (p2 - p1) - z_crit * se_unpooled\n",
    "ci_high = (p2 - p1) + z_crit * se_unpooled\n",
    "\n",
    "round(p1, 3), round(p2, 3), round(z_unpooled, 4), round(p_value_unpooled, 6), (round(ci_low, 4), round(ci_high, 4))"
   ]
  },
  {
   "cell_type": "markdown",
   "id": "da5c1816-a97e-443b-b96e-34297216e693",
   "metadata": {
    "jp-MarkdownHeadingCollapsed": true
   },
   "source": [
    "## Фишер (для малых выборок)"
   ]
  },
  {
   "cell_type": "code",
   "execution_count": 212,
   "id": "91273922-b491-433b-8be1-8c4517d62023",
   "metadata": {},
   "outputs": [
    {
     "data": {
      "text/plain": [
       "([[24, 76], [41, 59]], 0.4544, 0.015384)"
      ]
     },
     "execution_count": 212,
     "metadata": {},
     "output_type": "execute_result"
    }
   ],
   "source": [
    "from scipy.stats import fisher_exact\n",
    "\n",
    "# Построим таблицу сопряжённости:\n",
    "#         success | fail\n",
    "#  group A   a    | b\n",
    "#  group B   c    | d\n",
    "\n",
    "a = np.sum(group_a == 1)\n",
    "b = np.sum(group_a == 0)\n",
    "c = np.sum(group_b == 1)\n",
    "d = np.sum(group_b == 0)\n",
    "\n",
    "# Таблица 2x2\n",
    "table = [[a, b], [c, d]]\n",
    "\n",
    "# Точный тест Фишера (двусторонний)\n",
    "oddsratio, p_value_fisher = fisher_exact(table, alternative='two-sided')\n",
    "\n",
    "table, round(oddsratio, 4), round(p_value_fisher, 6)"
   ]
  },
  {
   "cell_type": "markdown",
   "id": "c81a8231-b2c5-4651-bc0c-ee0922915d72",
   "metadata": {
    "jp-MarkdownHeadingCollapsed": true
   },
   "source": [
    "## Хи-квадрат"
   ]
  },
  {
   "cell_type": "code",
   "execution_count": 213,
   "id": "c9ec4581-d08f-4925-bdf9-7aba9968dcd0",
   "metadata": {},
   "outputs": [
    {
     "data": {
      "text/plain": [
       "(5.8348, 0.015713, 1, [[32.5, 67.5], [32.5, 67.5]])"
      ]
     },
     "execution_count": 213,
     "metadata": {},
     "output_type": "execute_result"
    }
   ],
   "source": [
    "from scipy.stats import chi2_contingency\n",
    "\n",
    "# Используем ту же таблицу сопряжённости\n",
    "chi2_stat, p_value_chi2, dof, expected = chi2_contingency(table)\n",
    "\n",
    "round(chi2_stat, 4), round(p_value_chi2, 6), dof, expected.round(2).tolist()"
   ]
  },
  {
   "cell_type": "markdown",
   "id": "5a96217c-9cef-4451-ac74-0edc8c424a66",
   "metadata": {
    "jp-MarkdownHeadingCollapsed": true
   },
   "source": [
    "## Перестановочный тест"
   ]
  },
  {
   "cell_type": "code",
   "execution_count": 214,
   "id": "d857b352-7c8a-4ff5-a211-b960371aafa8",
   "metadata": {},
   "outputs": [
    {
     "data": {
      "text/plain": [
       "(0.17, 0.0158)"
      ]
     },
     "execution_count": 214,
     "metadata": {},
     "output_type": "execute_result"
    }
   ],
   "source": [
    "# Перестановочный тест для бинарных переменных\n",
    "\n",
    "# Объединяем все данные\n",
    "combined_binary = np.concatenate([group_a, group_b])\n",
    "labels = np.array([0]*len(group_a) + [1]*len(group_b))  # 0=A, 1=B\n",
    "\n",
    "# Наблюдаемая разность пропорций\n",
    "obs_diff = np.mean(group_b) - np.mean(group_a)\n",
    "\n",
    "# Перестановки\n",
    "n_permutations = 10000\n",
    "perm_diffs = []\n",
    "\n",
    "for _ in range(n_permutations):\n",
    "    shuffled_labels = np.random.permutation(labels)\n",
    "    group_a_perm = combined_binary[shuffled_labels == 0]\n",
    "    group_b_perm = combined_binary[shuffled_labels == 1]\n",
    "    diff = np.mean(group_b_perm) - np.mean(group_a_perm)\n",
    "    perm_diffs.append(diff)\n",
    "\n",
    "# Эмпирическое p-value\n",
    "perm_diffs = np.array(perm_diffs)\n",
    "p_value_perm = np.mean(np.abs(perm_diffs) >= np.abs(obs_diff))\n",
    "\n",
    "round(obs_diff, 4), round(p_value_perm, 6)"
   ]
  },
  {
   "cell_type": "markdown",
   "id": "7d2b73fd-ec7a-44a0-a938-a453c8587d5c",
   "metadata": {
    "jp-MarkdownHeadingCollapsed": true
   },
   "source": [
    "## бутстрап CI"
   ]
  },
  {
   "cell_type": "code",
   "execution_count": 215,
   "id": "b668922a-6933-4381-87fd-86e585437daa",
   "metadata": {},
   "outputs": [
    {
     "data": {
      "text/plain": [
       "(0.1702, [0.04, 0.3])"
      ]
     },
     "execution_count": 215,
     "metadata": {},
     "output_type": "execute_result"
    }
   ],
   "source": [
    "# Бутстрап-доверительный интервал разности долей\n",
    "\n",
    "n_bootstrap = 10000\n",
    "bootstrap_diffs = []\n",
    "\n",
    "for _ in range(n_bootstrap):\n",
    "    sample_a = np.random.choice(group_a, size=len(group_a), replace=True)\n",
    "    sample_b = np.random.choice(group_b, size=len(group_b), replace=True)\n",
    "    diff = np.mean(sample_b) - np.mean(sample_a)\n",
    "    bootstrap_diffs.append(diff)\n",
    "\n",
    "bootstrap_diffs = np.array(bootstrap_diffs)\n",
    "ci_bootstrap = np.percentile(bootstrap_diffs, [2.5, 97.5])\n",
    "mean_bootstrap_diff = np.mean(bootstrap_diffs)\n",
    "\n",
    "round(mean_bootstrap_diff, 4), ci_bootstrap.round(4).tolist()"
   ]
  },
  {
   "cell_type": "markdown",
   "id": "5cc6ab3b-979d-4a5a-9897-75c401962807",
   "metadata": {
    "jp-MarkdownHeadingCollapsed": true
   },
   "source": [
    "## Логистическая регрессия"
   ]
  },
  {
   "cell_type": "code",
   "execution_count": 222,
   "id": "884491db-88cf-4f19-a56b-1ba8fd9d9d59",
   "metadata": {},
   "outputs": [
    {
     "name": "stdout",
     "output_type": "stream",
     "text": [
      "Optimization terminated successfully.\n",
      "         Current function value: 0.613969\n",
      "         Iterations 5\n",
      "                           Logit Regression Results                           \n",
      "==============================================================================\n",
      "Dep. Variable:                 metric   No. Observations:                  200\n",
      "Model:                          Logit   Df Residuals:                      198\n",
      "Method:                           MLE   Df Model:                            1\n",
      "Date:                Fri, 09 May 2025   Pseudo R-squ.:                 0.02634\n",
      "Time:                        18:49:45   Log-Likelihood:                -122.79\n",
      "converged:                       True   LL-Null:                       -126.12\n",
      "Covariance Type:            nonrobust   LLR p-value:                  0.009945\n",
      "==============================================================================\n",
      "                 coef    std err          z      P>|z|      [0.025      0.975]\n",
      "------------------------------------------------------------------------------\n",
      "const         -1.1527      0.234     -4.923      0.000      -1.612      -0.694\n",
      "model          0.7887      0.310      2.543      0.011       0.181       1.397\n",
      "==============================================================================\n"
     ]
    }
   ],
   "source": [
    "import pandas as pd\n",
    "from sklearn.linear_model import LogisticRegression\n",
    "from sklearn.preprocessing import LabelEncoder\n",
    "import statsmodels.api as sm\n",
    "\n",
    "np.random.seed(42)\n",
    "\n",
    "# Группа A: 100 наблюдений, 25% успехов\n",
    "group_a = np.random.binomial(1, 0.25, size=100)\n",
    "\n",
    "# Группа B: 100 наблюдений, 40% успехов\n",
    "group_b = np.random.binomial(1, 0.40, size=100)\n",
    "\n",
    "\n",
    "df_a = pd.DataFrame({\n",
    "    'metric': group_a})\n",
    "df_a['model'] = 'A'\n",
    "\n",
    "df_b = pd.DataFrame({\n",
    "    'metric': group_b})\n",
    "df_b['model'] = 'B'\n",
    "df = pd.concat([df_a,df_b],axis =0)\n",
    "\n",
    "le = LabelEncoder()\n",
    "df['model'] = le.fit_transform(df['model'])\n",
    "\n",
    "X = sm.add_constant(df[['model']])\n",
    "y = df['metric']\n",
    "\n",
    "model = sm.Logit(y, X)\n",
    "result = model.fit()\n",
    "\n",
    "# выводим summary\n",
    "print(result.summary())"
   ]
  },
  {
   "cell_type": "code",
   "execution_count": 220,
   "id": "7e045e02-8393-48ed-8c72-88088116ffff",
   "metadata": {},
   "outputs": [],
   "source": []
  },
  {
   "cell_type": "code",
   "execution_count": null,
   "id": "ffd615ba-4893-43ad-a393-4c1f79089023",
   "metadata": {},
   "outputs": [],
   "source": []
  },
  {
   "cell_type": "code",
   "execution_count": null,
   "id": "2b2af95c-9ab6-43fc-b1d4-a8bd4a7ac9c3",
   "metadata": {},
   "outputs": [],
   "source": []
  },
  {
   "cell_type": "code",
   "execution_count": null,
   "id": "bb640ce1-10a9-416b-afc5-3ad8cfbd4e03",
   "metadata": {},
   "outputs": [],
   "source": []
  },
  {
   "cell_type": "code",
   "execution_count": null,
   "id": "872ff95f-38ad-4e23-ad01-c72ec896bab8",
   "metadata": {},
   "outputs": [],
   "source": []
  },
  {
   "cell_type": "code",
   "execution_count": null,
   "id": "276651fc-6b24-4d1a-b7a1-41dc3960c4da",
   "metadata": {},
   "outputs": [],
   "source": []
  },
  {
   "cell_type": "code",
   "execution_count": null,
   "id": "df9258bb-c953-47f9-a54b-fb41154a77a8",
   "metadata": {},
   "outputs": [],
   "source": []
  },
  {
   "cell_type": "markdown",
   "id": "27997ac4-9b45-4992-84ff-34760e8b17ab",
   "metadata": {
    "jp-MarkdownHeadingCollapsed": true
   },
   "source": [
    "## Это что-то допом"
   ]
  },
  {
   "cell_type": "code",
   "execution_count": null,
   "id": "2c42828c-4047-454d-bd46-cfff39d1d0c1",
   "metadata": {},
   "outputs": [],
   "source": [
    " 3. 95% доверительные интервалы через бутсрап\n",
    "# На этом шаге мы централизуем бутстрап, как будт-то эффект  = 0\n",
    "\n",
    "diffs = auc_model_b - auc_model_a\n",
    "# Центрируем разности относительно 0, чтобы бутстрап был под H0: delta = 0\n",
    "centered_diffs = diffs - mean_diff  # это как \"обнуление эффекта\"\n",
    "\n",
    "# Бутстрап распределение под H0: delta = 0\n",
    "null_bootstrap_means = []\n",
    "for _ in range(10000):\n",
    "    sample_idx = np.random.choice(len(centered_diffs), size=len(centered_diffs), replace=True)\n",
    "    sample_mean = np.mean(centered_diffs[sample_idx])\n",
    "    null_bootstrap_means.append(sample_mean)\n",
    "\n",
    "null_bootstrap_means = np.array(null_bootstrap_means)\n",
    "\n",
    "# Доверительный интервал по null-распределению\n",
    "ci_null = np.percentile(null_bootstrap_means, [2.5, 97.5])\n",
    "\n",
    "# p-value: доля, где null-распределение даёт среднюю разность ≥ наблюдаемой\n",
    "empirical_p_null = np.mean(np.abs(null_bootstrap_means) >= np.abs(mean_diff))\n",
    "\n",
    "print(f'доверительный интервал: {ci_null.round(4)}')\n",
    "print(f'p-value: {round(empirical_p_null, 4)}')\n",
    "Доверительный интервал НЕ включает наблюдаемую разность, значит мы можем утверждать с 95% уверенностью что эффект НЕ СЛУЧАЙНЫЙ.\n",
    "\n",
    "P- value  низкий отвергаем нулевую гипотезу о равенстве. Эффект есть"
   ]
  }
 ],
 "metadata": {
  "kernelspec": {
   "display_name": "Python 3 (ipykernel)",
   "language": "python",
   "name": "python3"
  },
  "language_info": {
   "codemirror_mode": {
    "name": "ipython",
    "version": 3
   },
   "file_extension": ".py",
   "mimetype": "text/x-python",
   "name": "python",
   "nbconvert_exporter": "python",
   "pygments_lexer": "ipython3",
   "version": "3.11.7"
  }
 },
 "nbformat": 4,
 "nbformat_minor": 5
}
